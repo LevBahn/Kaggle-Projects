{
 "cells": [
  {
   "cell_type": "code",
   "execution_count": 1,
   "id": "24a6d2eb",
   "metadata": {},
   "outputs": [],
   "source": [
    "import numpy as np # linear algebra\n",
    "import pandas as pd # data processing, CSV file I/O (e.g. pd.read_csv)\n",
    "from sklearn import feature_extraction, linear_model, model_selection, preprocessing\n",
    "import lightgbm as lgb\n",
    "\n",
    "from sklearn.metrics import roc_auc_score,accuracy_score\n",
    "from sklearn.metrics import classification_report\n",
    "from sklearn.metrics import confusion_matrix\n",
    "import time as time\n",
    "from sklearn.model_selection import train_test_split, StratifiedKFold, KFold, RandomizedSearchCV"
   ]
  },
  {
   "cell_type": "code",
   "execution_count": 30,
   "id": "261ddfe8",
   "metadata": {},
   "outputs": [],
   "source": [
    "train_df = pd.read_csv(\"train.csv\")\n",
    "test_df = pd.read_csv(\"test.csv\")"
   ]
  },
  {
   "cell_type": "code",
   "execution_count": 31,
   "id": "82a20154",
   "metadata": {},
   "outputs": [],
   "source": [
    "count_vectorizer = feature_extraction.text.CountVectorizer()"
   ]
  },
  {
   "cell_type": "code",
   "execution_count": 32,
   "id": "31257c2e",
   "metadata": {},
   "outputs": [],
   "source": [
    "train_vectors = count_vectorizer.fit_transform(train_df[\"text\"])\n",
    "\n",
    "## note that we're NOT using .fit_transform() here. Using just .transform() makes sure\n",
    "# that the tokens in the train vectors are the only ones mapped to the test vectors - \n",
    "# i.e. that the train and test vectors use the same set of tokens.\n",
    "test_vectors = count_vectorizer.transform(test_df[\"text\"])"
   ]
  },
  {
   "cell_type": "code",
   "execution_count": 6,
   "id": "9002ccc3",
   "metadata": {},
   "outputs": [],
   "source": [
    "params = {\n",
    "          'boosting_type': 'gbdt',\n",
    "          'objective': 'binary',\n",
    "          'metric': 'f1',\n",
    "          'verbosity': -1,\n",
    "          'random_state': 42, \n",
    "          'reg_alpha': 0, \n",
    "          'reg_lambda': 0, \n",
    "          'colsample_bytree': 0.5, \n",
    "          'max_depth': 15, \n",
    "          'num_leaves': 60, \n",
    "          'min_child_samples': 30, \n",
    "          'min_data_per_groups': 15\n",
    "         }"
   ]
  },
  {
   "cell_type": "code",
   "execution_count": 7,
   "id": "e84d7bed",
   "metadata": {},
   "outputs": [],
   "source": [
    "# Define the parameter grid for RandomizedSearchCV\n",
    "param_grid = {\n",
    "    'n_estimators': np.arange(50, 500, 50),\n",
    "    'learning_rate': np.linspace(0.01, 0.3, 30),\n",
    "    'subsample': np.linspace(0.5, 1.0, 6),\n",
    "}"
   ]
  },
  {
   "cell_type": "code",
   "execution_count": 8,
   "id": "608acb2b",
   "metadata": {},
   "outputs": [
    {
     "name": "stdout",
     "output_type": "stream",
     "text": [
      "0.0\n"
     ]
    }
   ],
   "source": [
    "# Set up the XGBClassifier\n",
    "lgb_model = lgb.LGBMClassifier(**params)\n",
    "\n",
    "# Set up KFold cross-validation\n",
    "kf = KFold(n_splits=5, shuffle=True, random_state=42)\n",
    "\n",
    "setup=time.time()\n",
    "# Set up the RandomizedSearchCV with k-fold cross-validation\n",
    "random_search = RandomizedSearchCV(\n",
    "    estimator=lgb_model,\n",
    "    param_distributions=param_grid,\n",
    "    n_iter=50,\n",
    "    scoring='f1',\n",
    "    cv=kf,\n",
    "    verbose=1,\n",
    "    random_state=42,\n",
    "    n_jobs=-1,\n",
    "    error_score='raise'\n",
    ")\n",
    "setup_end=time.time()\n",
    "print(setup_end-setup)\n"
   ]
  },
  {
   "cell_type": "code",
   "execution_count": 9,
   "id": "85157f3e",
   "metadata": {},
   "outputs": [
    {
     "name": "stdout",
     "output_type": "stream",
     "text": [
      "Fitting 5 folds for each of 50 candidates, totalling 250 fits\n",
      "84.81478261947632\n"
     ]
    }
   ],
   "source": [
    "# Fit the RandomizedSearchCV with the training data\n",
    "fitting_start=time.time()\n",
    "X1=train_vectors.astype(np.float64)\n",
    "random_search.fit(X1, train_df['target'])\n",
    "fitting_end=time.time()\n",
    "print(fitting_end-fitting_start)"
   ]
  },
  {
   "cell_type": "code",
   "execution_count": 10,
   "id": "0899eca9",
   "metadata": {},
   "outputs": [
    {
     "name": "stdout",
     "output_type": "stream",
     "text": [
      "Best parameters found:  {'subsample': 0.7, 'n_estimators': 450, 'learning_rate': 0.08999999999999998}\n",
      "0.0007195472717285156\n"
     ]
    }
   ],
   "source": [
    "# Get the best parameters\n",
    "bparam_start=time.time()\n",
    "best_params = random_search.best_params_\n",
    "print(\"Best parameters found: \", best_params)\n",
    "bparam_end=time.time()\n",
    "print(bparam_end-bparam_start)"
   ]
  },
  {
   "cell_type": "code",
   "execution_count": 50,
   "id": "cdddb811",
   "metadata": {},
   "outputs": [],
   "source": [
    "def cross_val_train(X, y, test, params):\n",
    "    \n",
    "    spl=10   # Number of folders\n",
    "    \n",
    "    # Inititate arrays with predictions and oof predictions\n",
    "    test_preds = np.zeros((len(test),2))\n",
    "    val_preds = np.zeros((len(X),2))\n",
    "    val_scores, train_scores = [],[]\n",
    "    \n",
    "    # perform cross-validation split\n",
    "    cv = KFold(spl, shuffle=True, random_state=42)\n",
    "    \n",
    "    # \"for\" cycle to train for each fold\n",
    "    for fold, (train_ind, valid_ind) in enumerate(cv.split(X,y)):\n",
    "        \n",
    "        # divide train and validation data\n",
    "        X_train = np.asarray(X[train_ind])\n",
    "        y_train = y[train_ind]\n",
    "        X_val = np.asarray(X[valid_ind])\n",
    "        y_val = y[valid_ind]\n",
    "        \n",
    "        # Initiate model lightGBM \n",
    "        model = lgb.LGBMClassifier(**params,**best_params)\n",
    "        \n",
    "        # fit the model\n",
    "        model.fit(X_train, y_train,\n",
    "                    eval_set=[(X_val, y_val)],\n",
    "                    callbacks=[lgb.early_stopping(stopping_rounds=70), lgb.log_evaluation(100)], eval_metric='logloss') \n",
    "        \n",
    "        # predictions on train and validation data\n",
    "        y_pred_trn = model.predict_proba(X_train)\n",
    "        y_pred_val = model.predict_proba(X_val)\n",
    "        \n",
    "        # compute accuracy\n",
    "        train_acc = accuracy_score(y_train, np.argmax(y_pred_trn, axis=1))\n",
    "        val_acc = accuracy_score(y_val, np.argmax(y_pred_val, axis=1))\n",
    "        \n",
    "        # print partial results for the fold\n",
    "        print(\"Fold:\",fold, \" Train R2:\",np.round(train_acc,5), \" Val R2:\",np.round(val_acc,5))\n",
    "        \n",
    "        # compute test predictions and oof predictions\n",
    "        test=np.asarray(test)\n",
    "        test_preds += model.predict_proba(test)/spl\n",
    "        val_preds[valid_ind] = model.predict_proba(X_val)\n",
    "        val_scores.append(val_acc)\n",
    "        print(\"-\"*50)\n",
    "        \n",
    "    return val_scores, val_preds, test_preds"
   ]
  },
  {
   "cell_type": "code",
   "execution_count": 56,
   "id": "25848970",
   "metadata": {},
   "outputs": [
    {
     "ename": "TypeError",
     "evalue": "sparse array length is ambiguous; use getnnz() or shape[0]",
     "output_type": "error",
     "traceback": [
      "\u001b[1;31m---------------------------------------------------------------------------\u001b[0m",
      "\u001b[1;31mTypeError\u001b[0m                                 Traceback (most recent call last)",
      "\u001b[1;32m~\\AppData\\Local\\Temp/ipykernel_11488/3089767649.py\u001b[0m in \u001b[0;36m<module>\u001b[1;34m\u001b[0m\n\u001b[1;32m----> 1\u001b[1;33m \u001b[0mlen\u001b[0m\u001b[1;33m(\u001b[0m\u001b[0mtest_vectors\u001b[0m\u001b[1;33m)\u001b[0m\u001b[1;33m\u001b[0m\u001b[1;33m\u001b[0m\u001b[0m\n\u001b[0m",
      "\u001b[1;32m~\\anaconda3\\lib\\site-packages\\scipy\\sparse\\_base.py\u001b[0m in \u001b[0;36m__len__\u001b[1;34m(self)\u001b[0m\n\u001b[0;32m    402\u001b[0m     \u001b[1;31m# non-zeros is more important.  For now, raise an exception!\u001b[0m\u001b[1;33m\u001b[0m\u001b[1;33m\u001b[0m\u001b[0m\n\u001b[0;32m    403\u001b[0m     \u001b[1;32mdef\u001b[0m \u001b[0m__len__\u001b[0m\u001b[1;33m(\u001b[0m\u001b[0mself\u001b[0m\u001b[1;33m)\u001b[0m\u001b[1;33m:\u001b[0m\u001b[1;33m\u001b[0m\u001b[1;33m\u001b[0m\u001b[0m\n\u001b[1;32m--> 404\u001b[1;33m         raise TypeError(\"sparse array length is ambiguous; use getnnz()\"\n\u001b[0m\u001b[0;32m    405\u001b[0m                         \" or shape[0]\")\n\u001b[0;32m    406\u001b[0m \u001b[1;33m\u001b[0m\u001b[0m\n",
      "\u001b[1;31mTypeError\u001b[0m: sparse array length is ambiguous; use getnnz() or shape[0]"
     ]
    }
   ],
   "source": [
    "len(test_vectors)"
   ]
  },
  {
   "cell_type": "code",
   "execution_count": 58,
   "id": "491fcdd0",
   "metadata": {},
   "outputs": [
    {
     "name": "stdout",
     "output_type": "stream",
     "text": [
      "Training until validation scores don't improve for 70 rounds\n",
      "[100]\tvalid_0's binary_logloss: 0.512653\n",
      "[200]\tvalid_0's binary_logloss: 0.511972\n",
      "Early stopping, best iteration is:\n",
      "[181]\tvalid_0's binary_logloss: 0.509478\n",
      "Fold: 0  Train R2: 0.83243  Val R2: 0.76772\n",
      "--------------------------------------------------\n",
      "Training until validation scores don't improve for 70 rounds\n",
      "[100]\tvalid_0's binary_logloss: 0.482039\n",
      "[200]\tvalid_0's binary_logloss: 0.475863\n",
      "Early stopping, best iteration is:\n",
      "[189]\tvalid_0's binary_logloss: 0.475135\n",
      "Fold: 1  Train R2: 0.83856  Val R2: 0.77822\n",
      "--------------------------------------------------\n",
      "Training until validation scores don't improve for 70 rounds\n",
      "[100]\tvalid_0's binary_logloss: 0.464153\n",
      "[200]\tvalid_0's binary_logloss: 0.444705\n",
      "[300]\tvalid_0's binary_logloss: 0.442124\n",
      "Early stopping, best iteration is:\n",
      "[277]\tvalid_0's binary_logloss: 0.441476\n",
      "Fold: 2  Train R2: 0.8463  Val R2: 0.80052\n",
      "--------------------------------------------------\n",
      "Training until validation scores don't improve for 70 rounds\n",
      "[100]\tvalid_0's binary_logloss: 0.479975\n",
      "[200]\tvalid_0's binary_logloss: 0.474916\n",
      "[300]\tvalid_0's binary_logloss: 0.475092\n",
      "Early stopping, best iteration is:\n",
      "[243]\tvalid_0's binary_logloss: 0.473121\n",
      "Fold: 3  Train R2: 0.84428  Val R2: 0.77792\n",
      "--------------------------------------------------\n",
      "Training until validation scores don't improve for 70 rounds\n",
      "[100]\tvalid_0's binary_logloss: 0.479077\n",
      "[200]\tvalid_0's binary_logloss: 0.474863\n",
      "Early stopping, best iteration is:\n",
      "[162]\tvalid_0's binary_logloss: 0.473003\n",
      "Fold: 4  Train R2: 0.82793  Val R2: 0.78318\n",
      "--------------------------------------------------\n",
      "Training until validation scores don't improve for 70 rounds\n",
      "[100]\tvalid_0's binary_logloss: 0.457173\n",
      "[200]\tvalid_0's binary_logloss: 0.446534\n",
      "[300]\tvalid_0's binary_logloss: 0.446452\n",
      "Early stopping, best iteration is:\n",
      "[254]\tvalid_0's binary_logloss: 0.444166\n",
      "Fold: 5  Train R2: 0.84005  Val R2: 0.79895\n",
      "--------------------------------------------------\n",
      "Training until validation scores don't improve for 70 rounds\n",
      "[100]\tvalid_0's binary_logloss: 0.484411\n",
      "[200]\tvalid_0's binary_logloss: 0.472121\n",
      "[300]\tvalid_0's binary_logloss: 0.472921\n",
      "Early stopping, best iteration is:\n",
      "[234]\tvalid_0's binary_logloss: 0.470757\n",
      "Fold: 6  Train R2: 0.84078  Val R2: 0.78449\n",
      "--------------------------------------------------\n",
      "Training until validation scores don't improve for 70 rounds\n",
      "[100]\tvalid_0's binary_logloss: 0.492291\n",
      "[200]\tvalid_0's binary_logloss: 0.483542\n",
      "Early stopping, best iteration is:\n",
      "[203]\tvalid_0's binary_logloss: 0.482896\n",
      "Fold: 7  Train R2: 0.83903  Val R2: 0.78581\n",
      "--------------------------------------------------\n",
      "Training until validation scores don't improve for 70 rounds\n",
      "[100]\tvalid_0's binary_logloss: 0.50742\n",
      "[200]\tvalid_0's binary_logloss: 0.503622\n",
      "Early stopping, best iteration is:\n",
      "[149]\tvalid_0's binary_logloss: 0.502697\n",
      "Fold: 8  Train R2: 0.82954  Val R2: 0.76084\n",
      "--------------------------------------------------\n",
      "Training until validation scores don't improve for 70 rounds\n",
      "[100]\tvalid_0's binary_logloss: 0.470399\n",
      "[200]\tvalid_0's binary_logloss: 0.464566\n",
      "Early stopping, best iteration is:\n",
      "[179]\tvalid_0's binary_logloss: 0.463671\n",
      "Fold: 9  Train R2: 0.83173  Val R2: 0.79106\n",
      "--------------------------------------------------\n"
     ]
    }
   ],
   "source": [
    "val_scores, val_preds, test_preds = cross_val_train(train_vectors.todense(), train_df['target'], test_vectors.todense(), params)"
   ]
  },
  {
   "cell_type": "code",
   "execution_count": 59,
   "id": "e1ea1088",
   "metadata": {},
   "outputs": [
    {
     "data": {
      "text/plain": [
       "0.7828714041770656"
      ]
     },
     "execution_count": 59,
     "metadata": {},
     "output_type": "execute_result"
    }
   ],
   "source": [
    "val_preds_out = np.argmax(val_preds, axis=1)\n",
    "accuracy_score(train_df['target'], val_preds_out)"
   ]
  },
  {
   "cell_type": "code",
   "execution_count": 60,
   "id": "0304a612",
   "metadata": {},
   "outputs": [],
   "source": [
    "test_preds_out=np.argmax(test_preds, axis=1)"
   ]
  },
  {
   "cell_type": "code",
   "execution_count": 61,
   "id": "c93d2ee1",
   "metadata": {},
   "outputs": [
    {
     "data": {
      "text/html": [
       "<div>\n",
       "<style scoped>\n",
       "    .dataframe tbody tr th:only-of-type {\n",
       "        vertical-align: middle;\n",
       "    }\n",
       "\n",
       "    .dataframe tbody tr th {\n",
       "        vertical-align: top;\n",
       "    }\n",
       "\n",
       "    .dataframe thead th {\n",
       "        text-align: right;\n",
       "    }\n",
       "</style>\n",
       "<table border=\"1\" class=\"dataframe\">\n",
       "  <thead>\n",
       "    <tr style=\"text-align: right;\">\n",
       "      <th></th>\n",
       "      <th>id</th>\n",
       "      <th>target</th>\n",
       "    </tr>\n",
       "  </thead>\n",
       "  <tbody>\n",
       "    <tr>\n",
       "      <th>0</th>\n",
       "      <td>0</td>\n",
       "      <td>1</td>\n",
       "    </tr>\n",
       "    <tr>\n",
       "      <th>1</th>\n",
       "      <td>2</td>\n",
       "      <td>1</td>\n",
       "    </tr>\n",
       "    <tr>\n",
       "      <th>2</th>\n",
       "      <td>3</td>\n",
       "      <td>1</td>\n",
       "    </tr>\n",
       "    <tr>\n",
       "      <th>3</th>\n",
       "      <td>9</td>\n",
       "      <td>0</td>\n",
       "    </tr>\n",
       "    <tr>\n",
       "      <th>4</th>\n",
       "      <td>11</td>\n",
       "      <td>1</td>\n",
       "    </tr>\n",
       "  </tbody>\n",
       "</table>\n",
       "</div>"
      ],
      "text/plain": [
       "   id  target\n",
       "0   0       1\n",
       "1   2       1\n",
       "2   3       1\n",
       "3   9       0\n",
       "4  11       1"
      ]
     },
     "execution_count": 61,
     "metadata": {},
     "output_type": "execute_result"
    }
   ],
   "source": [
    "sample_submission = pd.read_csv(\"sample_submission.csv\")\n",
    "sample_submission[\"target\"] = np.argmax(test_preds, axis=1)\n",
    "sample_submission.head()"
   ]
  },
  {
   "cell_type": "code",
   "execution_count": 62,
   "id": "2d33c65d",
   "metadata": {},
   "outputs": [],
   "source": [
    "sample_submission.to_csv(\"submission.csv\", index=False)"
   ]
  },
  {
   "cell_type": "code",
   "execution_count": null,
   "id": "05599650",
   "metadata": {},
   "outputs": [],
   "source": []
  },
  {
   "cell_type": "code",
   "execution_count": null,
   "id": "9e647914",
   "metadata": {},
   "outputs": [],
   "source": []
  }
 ],
 "metadata": {
  "kernelspec": {
   "display_name": "Python 3 (ipykernel)",
   "language": "python",
   "name": "python3"
  },
  "language_info": {
   "codemirror_mode": {
    "name": "ipython",
    "version": 3
   },
   "file_extension": ".py",
   "mimetype": "text/x-python",
   "name": "python",
   "nbconvert_exporter": "python",
   "pygments_lexer": "ipython3",
   "version": "3.9.7"
  }
 },
 "nbformat": 4,
 "nbformat_minor": 5
}
