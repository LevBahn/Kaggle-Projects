{
 "cells": [
  {
   "cell_type": "code",
   "execution_count": 1,
   "id": "e9f4c142",
   "metadata": {},
   "outputs": [],
   "source": [
    "import pandas as pd\n",
    "import numpy as np\n",
    "from sklearn.preprocessing import QuantileTransformer\n",
    "from sklearn.model_selection import KFold\n",
    "from sklearn.model_selection import train_test_split, RandomizedSearchCV\n",
    "from sklearn.preprocessing import LabelEncoder\n",
    "from sklearn.metrics import accuracy_score\n",
    "import xgboost as xgb\n",
    "from xgboost import XGBClassifier\n",
    "import time"
   ]
  },
  {
   "cell_type": "code",
   "execution_count": 2,
   "id": "35deeac1",
   "metadata": {},
   "outputs": [],
   "source": [
    "df_tr = pd.read_csv('train.csv')\n",
    "df_ts = pd.read_csv('test.csv')\n",
    "df_s = pd.read_csv('sample_submission.csv')"
   ]
  },
  {
   "cell_type": "code",
   "execution_count": 3,
   "id": "30774b38",
   "metadata": {},
   "outputs": [
    {
     "name": "stdout",
     "output_type": "stream",
     "text": [
      "object\n"
     ]
    }
   ],
   "source": [
    "# Check the target column type\n",
    "print(df_tr['Target'].dtype)\n",
    "\n",
    "# If the target is categorical, convert it to numeric using LabelEncoder\n",
    "if df_tr['Target'].dtype == 'object':\n",
    "    le = LabelEncoder()\n",
    "    df_tr['Target'] = le.fit_transform(df_tr['Target'])\n",
    "\n",
    "# Split data into features (X) and target (y)\n",
    "X = df_tr.drop(columns=['Target','id'], axis=1)\n",
    "y = df_tr['Target']\n",
    "\n",
    "# Apply Quantile Transformer to X\n",
    "#scaler = QuantileTransformer()\n",
    "#X_scaled = scaler.fit_transform(X)\n",
    "X_scaled =X\n",
    "\n",
    "\n",
    "# Define the parameter grid for RandomizedSearchCV\n",
    "param_grid = {\n",
    "    'n_estimators': np.arange(50, 500, 50),\n",
    "    'learning_rate': np.linspace(0.01, 0.3, 30),\n",
    "    'max_depth': np.arange(3, 10, 1),\n",
    "    'subsample': np.linspace(0.5, 1.0, 6),\n",
    "    'colsample_bytree': np.linspace(0.5, 1.0, 6)\n",
    "}"
   ]
  },
  {
   "cell_type": "code",
   "execution_count": 4,
   "id": "b4b631f7",
   "metadata": {},
   "outputs": [
    {
     "name": "stdout",
     "output_type": "stream",
     "text": [
      "0.0\n"
     ]
    }
   ],
   "source": [
    "# Set up the XGBClassifier\n",
    "xgb_model = XGBClassifier()\n",
    "\n",
    "# Set up KFold cross-validation\n",
    "kf = KFold(n_splits=5, shuffle=True, random_state=42)\n",
    "\n",
    "setup=time.time()\n",
    "# Set up the RandomizedSearchCV with k-fold cross-validation\n",
    "random_search = RandomizedSearchCV(\n",
    "    estimator=xgb_model,\n",
    "    param_distributions=param_grid,\n",
    "    n_iter=50,\n",
    "    scoring='accuracy',\n",
    "    cv=kf,\n",
    "    verbose=1,\n",
    "    random_state=42,\n",
    "    n_jobs=-1\n",
    ")\n",
    "setup_end=time.time()\n",
    "print(setup_end-setup)\n"
   ]
  },
  {
   "cell_type": "code",
   "execution_count": 5,
   "id": "f0b56df3",
   "metadata": {},
   "outputs": [
    {
     "name": "stdout",
     "output_type": "stream",
     "text": [
      "Fitting 5 folds for each of 50 candidates, totalling 250 fits\n",
      "842.12930560112\n"
     ]
    }
   ],
   "source": [
    "# Fit the RandomizedSearchCV with the training data\n",
    "fitting_start=time.time()\n",
    "random_search.fit(X_scaled, y)\n",
    "fitting_end=time.time()\n",
    "print(fitting_end-fitting_start)"
   ]
  },
  {
   "cell_type": "code",
   "execution_count": 6,
   "id": "8b0e1e86",
   "metadata": {},
   "outputs": [
    {
     "name": "stdout",
     "output_type": "stream",
     "text": [
      "Best parameters found:  {'subsample': 0.5, 'n_estimators': 400, 'max_depth': 5, 'learning_rate': 0.08999999999999998, 'colsample_bytree': 0.8}\n",
      "0.0\n"
     ]
    }
   ],
   "source": [
    "# Get the best parameters\n",
    "bparam_start=time.time()\n",
    "best_params = random_search.best_params_\n",
    "print(\"Best parameters found: \", best_params)\n",
    "bparam_end=time.time()\n",
    "print(bparam_end-bparam_start)"
   ]
  },
  {
   "cell_type": "code",
   "execution_count": 7,
   "id": "eee33397",
   "metadata": {},
   "outputs": [
    {
     "name": "stdout",
     "output_type": "stream",
     "text": [
      "11.206517457962036\n"
     ]
    }
   ],
   "source": [
    "# Train the final XGBClassifier with the best parameters\n",
    "train_start=time.time()\n",
    "best_xgb_model = XGBClassifier(**best_params)\n",
    "best_xgb_model.fit(X_scaled, y)\n",
    "train_end=time.time()\n",
    "print(train_end-train_start)"
   ]
  },
  {
   "cell_type": "code",
   "execution_count": 8,
   "id": "79c315ed",
   "metadata": {},
   "outputs": [],
   "source": [
    "# Split the scaled data into training and testing sets\n",
    "X_train, X_test, y_train, y_test = train_test_split(X_scaled, y, test_size=0.2, random_state=42)\n",
    "\n",
    "# Predict on the test set using XGBoost\n",
    "y_pred_xgb = best_xgb_model.predict(X_test)"
   ]
  },
  {
   "cell_type": "code",
   "execution_count": 9,
   "id": "560f2066",
   "metadata": {},
   "outputs": [
    {
     "name": "stdout",
     "output_type": "stream",
     "text": [
      "XGBoost accuracy on test set:  0.8633037114479875\n"
     ]
    }
   ],
   "source": [
    "# Evaluate the XGBoost model\n",
    "accuracy_xgb = accuracy_score(y_test, y_pred_xgb)\n",
    "print(\"XGBoost accuracy on test set: \", accuracy_xgb)"
   ]
  },
  {
   "cell_type": "code",
   "execution_count": 10,
   "id": "dd6f9284",
   "metadata": {},
   "outputs": [],
   "source": [
    "df_ts_drop=df_ts.drop(columns=['id'], axis=1)"
   ]
  },
  {
   "cell_type": "code",
   "execution_count": 11,
   "id": "dba13e60",
   "metadata": {},
   "outputs": [],
   "source": [
    "# Apply Quantile Transformer to X\n",
    "scaler = QuantileTransformer()\n",
    "df_ts_scaled = scaler.fit_transform(df_ts_drop)"
   ]
  },
  {
   "cell_type": "code",
   "execution_count": 12,
   "id": "a69b1aa3",
   "metadata": {},
   "outputs": [],
   "source": [
    "L_Pred = best_xgb_model.predict(df_ts_drop)\n",
    "# Making Submission File \n",
    "df_s['Target'] = le.inverse_transform(L_Pred)\n",
    "df_s.to_csv('Submission_refined.csv', index=False)"
   ]
  },
  {
   "cell_type": "code",
   "execution_count": 13,
   "id": "04a19e18",
   "metadata": {},
   "outputs": [],
   "source": [
    "df=pd.read_csv('Submission_refined.csv')"
   ]
  },
  {
   "cell_type": "code",
   "execution_count": 14,
   "id": "666fe4de",
   "metadata": {},
   "outputs": [
    {
     "data": {
      "text/html": [
       "<div>\n",
       "<style scoped>\n",
       "    .dataframe tbody tr th:only-of-type {\n",
       "        vertical-align: middle;\n",
       "    }\n",
       "\n",
       "    .dataframe tbody tr th {\n",
       "        vertical-align: top;\n",
       "    }\n",
       "\n",
       "    .dataframe thead th {\n",
       "        text-align: right;\n",
       "    }\n",
       "</style>\n",
       "<table border=\"1\" class=\"dataframe\">\n",
       "  <thead>\n",
       "    <tr style=\"text-align: right;\">\n",
       "      <th></th>\n",
       "      <th>id</th>\n",
       "      <th>Target</th>\n",
       "    </tr>\n",
       "  </thead>\n",
       "  <tbody>\n",
       "    <tr>\n",
       "      <th>0</th>\n",
       "      <td>76518</td>\n",
       "      <td>Dropout</td>\n",
       "    </tr>\n",
       "    <tr>\n",
       "      <th>1</th>\n",
       "      <td>76519</td>\n",
       "      <td>Graduate</td>\n",
       "    </tr>\n",
       "    <tr>\n",
       "      <th>2</th>\n",
       "      <td>76520</td>\n",
       "      <td>Graduate</td>\n",
       "    </tr>\n",
       "    <tr>\n",
       "      <th>3</th>\n",
       "      <td>76521</td>\n",
       "      <td>Graduate</td>\n",
       "    </tr>\n",
       "    <tr>\n",
       "      <th>4</th>\n",
       "      <td>76522</td>\n",
       "      <td>Enrolled</td>\n",
       "    </tr>\n",
       "  </tbody>\n",
       "</table>\n",
       "</div>"
      ],
      "text/plain": [
       "      id    Target\n",
       "0  76518   Dropout\n",
       "1  76519  Graduate\n",
       "2  76520  Graduate\n",
       "3  76521  Graduate\n",
       "4  76522  Enrolled"
      ]
     },
     "execution_count": 14,
     "metadata": {},
     "output_type": "execute_result"
    }
   ],
   "source": [
    "df.head()"
   ]
  },
  {
   "cell_type": "code",
   "execution_count": null,
   "id": "158e51fe",
   "metadata": {},
   "outputs": [],
   "source": []
  },
  {
   "cell_type": "code",
   "execution_count": null,
   "id": "fdf60266",
   "metadata": {},
   "outputs": [],
   "source": []
  }
 ],
 "metadata": {
  "kernelspec": {
   "display_name": "Python 3 (ipykernel)",
   "language": "python",
   "name": "python3"
  },
  "language_info": {
   "codemirror_mode": {
    "name": "ipython",
    "version": 3
   },
   "file_extension": ".py",
   "mimetype": "text/x-python",
   "name": "python",
   "nbconvert_exporter": "python",
   "pygments_lexer": "ipython3",
   "version": "3.9.7"
  }
 },
 "nbformat": 4,
 "nbformat_minor": 5
}
